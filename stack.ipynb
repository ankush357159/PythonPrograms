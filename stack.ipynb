{
 "metadata": {
  "language_info": {
   "codemirror_mode": {
    "name": "ipython",
    "version": 3
   },
   "file_extension": ".py",
   "mimetype": "text/x-python",
   "name": "python",
   "nbconvert_exporter": "python",
   "pygments_lexer": "ipython3",
   "version": "3.8.10"
  },
  "orig_nbformat": 4,
  "kernelspec": {
   "name": "python3",
   "display_name": "Python 3.8.10 64-bit"
  },
  "interpreter": {
   "hash": "31f2aee4e71d21fbe5cf8b01ff0e069b9275f58929596ceb00d14d90e3e16cd6"
  }
 },
 "nbformat": 4,
 "nbformat_minor": 2,
 "cells": [
  {
   "cell_type": "code",
   "execution_count": 12,
   "metadata": {},
   "outputs": [
    {
     "output_type": "stream",
     "name": "stdout",
     "text": [
      "[15]\n"
     ]
    }
   ],
   "source": [
    "# Push: Add an element to the stack\n",
    "# Pop: Remove an element from the stack\n",
    "# Peek: Get the topmost element of the stack\n",
    "data = []\n",
    "# append is for enqueue the elements\n",
    "data.append(5)\n",
    "data.append(10)\n",
    "data.append(15)\n",
    "\n",
    "# pop is for dequeue the elements\n",
    "data.pop(0)\n",
    "data.pop(0)\n",
    "\n",
    "print(data)\n"
   ]
  },
  {
   "cell_type": "code",
   "execution_count": 14,
   "metadata": {},
   "outputs": [
    {
     "output_type": "stream",
     "name": "stdout",
     "text": [
      "deque([])\nAnkush deque([])\n"
     ]
    }
   ],
   "source": [
    "from collections import deque\n",
    "data = deque()\n",
    "print(data)\n",
    "data.append(\"Ankush\")\n",
    "element = data.popleft()\n",
    "print(element, data)"
   ]
  },
  {
   "cell_type": "code",
   "execution_count": 19,
   "metadata": {},
   "outputs": [
    {
     "output_type": "stream",
     "name": "stdout",
     "text": [
      "<__main__.Stack object at 0x7f10bc8725e0>\n10\n10\n"
     ]
    }
   ],
   "source": [
    "class Stack:\n",
    "    def __init__(self):\n",
    "        self._data = []\n",
    "    def push(self, data):\n",
    "        self._data.append(data)\n",
    "    def pop(self):\n",
    "        return self._data.pop()\n",
    "    def peek(self):\n",
    "        return self._data[len(self._data) -1]\n",
    "\n",
    "stack = Stack()\n",
    "print(stack)\n",
    "stack.push(10)\n",
    "print(stack.peek())\n",
    "test = stack.pop()\n",
    "print(test)\n"
   ]
  }
 ]
}