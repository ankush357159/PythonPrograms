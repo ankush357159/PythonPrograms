{
 "cells": [
  {
   "cell_type": "code",
   "execution_count": 8,
   "id": "comparative-trustee",
   "metadata": {},
   "outputs": [
    {
     "name": "stdout",
     "output_type": "stream",
     "text": [
      "Original string is:  this_is_snake_case\n",
      "String after change of case is:  ThisIsSnakeCase\n"
     ]
    }
   ],
   "source": [
    "# This program converts snake case string to pascal case\n",
    "\n",
    "str1 = \"this_is_snake_case\"\n",
    "\n",
    "print('Original string is: ', str1)\n",
    "\n",
    "result = str1.replace(\"_\", \" \").title().replace(\" \", \"\")\n",
    "\n",
    "print('String after change of case is: ', result)"
   ]
  },
  {
   "cell_type": "code",
   "execution_count": null,
   "id": "inner-field",
   "metadata": {},
   "outputs": [],
   "source": []
  }
 ],
 "metadata": {
  "kernelspec": {
   "display_name": "Python 3",
   "language": "python",
   "name": "python3"
  },
  "language_info": {
   "codemirror_mode": {
    "name": "ipython",
    "version": 3
   },
   "file_extension": ".py",
   "mimetype": "text/x-python",
   "name": "python",
   "nbconvert_exporter": "python",
   "pygments_lexer": "ipython3",
   "version": "3.7.0"
  }
 },
 "nbformat": 4,
 "nbformat_minor": 5
}
