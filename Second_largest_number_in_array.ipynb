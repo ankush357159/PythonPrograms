{
 "cells": [
  {
   "cell_type": "code",
   "execution_count": 3,
   "id": "variable-dealing",
   "metadata": {},
   "outputs": [
    {
     "name": "stdout",
     "output_type": "stream",
     "text": [
      "Enter number of elements in list: 3\n",
      "Enter elements: 1\n",
      "Enter elements: 2\n",
      "Enter elements: 3\n",
      "Second largest element is: 2\n"
     ]
    }
   ],
   "source": [
    "# Python program to find second largest number in array\n",
    "\n",
    "\n",
    "# creating empty list\n",
    "list = []\n",
    "\n",
    "\n",
    "num = int(input(\"Enter number of elements in list: \"))\n",
    "\n",
    "\n",
    "for i in range(1, num + 1):\n",
    "    elem = int(input(\"Enter elements: \"))\n",
    "    list.append(elem)\n",
    "\n",
    "\n",
    "\n",
    "# print second maximum element using sorted() method\n",
    "print(\"Second largest element is:\", sorted(list)[-2])\n"
   ]
  },
  {
   "cell_type": "markdown",
   "id": "universal-missile",
   "metadata": {},
   "source": []
  }
 ],
 "metadata": {
  "kernelspec": {
   "display_name": "Python 3",
   "language": "python",
   "name": "python3"
  },
  "language_info": {
   "codemirror_mode": {
    "name": "ipython",
    "version": 3
   },
   "file_extension": ".py",
   "mimetype": "text/x-python",
   "name": "python",
   "nbconvert_exporter": "python",
   "pygments_lexer": "ipython3",
   "version": "3.7.0"
  }
 },
 "nbformat": 4,
 "nbformat_minor": 5
}
